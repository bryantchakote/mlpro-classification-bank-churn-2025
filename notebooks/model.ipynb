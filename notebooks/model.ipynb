{
 "cells": [
  {
   "cell_type": "code",
   "execution_count": 1,
   "metadata": {},
   "outputs": [],
   "source": [
    "import numpy as np\n",
    "import pandas as pd\n",
    "import matplotlib.pyplot as plt\n",
    "\n",
    "plt.style.use(\"ggplot\")"
   ]
  },
  {
   "cell_type": "markdown",
   "metadata": {},
   "source": [
    "### **0. Chargement des données**"
   ]
  },
  {
   "cell_type": "code",
   "execution_count": 2,
   "metadata": {},
   "outputs": [
    {
     "data": {
      "text/plain": [
       "['test_data.csv', 'submissions', 'train_data.csv']"
      ]
     },
     "execution_count": 2,
     "metadata": {},
     "output_type": "execute_result"
    }
   ],
   "source": [
    "import os\n",
    "from pathlib import Path\n",
    "\n",
    "data_folder = Path(\"../data\")\n",
    "os.listdir(data_folder)"
   ]
  },
  {
   "cell_type": "code",
   "execution_count": 3,
   "metadata": {},
   "outputs": [
    {
     "data": {
      "application/vnd.microsoft.datawrangler.viewer.v0+json": {
       "columns": [
        {
         "name": "index",
         "rawType": "int64",
         "type": "integer"
        },
        {
         "name": "ID",
         "rawType": "int64",
         "type": "integer"
        },
        {
         "name": "CustomerId",
         "rawType": "int64",
         "type": "integer"
        },
        {
         "name": "Surname",
         "rawType": "object",
         "type": "string"
        },
        {
         "name": "CreditScore",
         "rawType": "int64",
         "type": "integer"
        },
        {
         "name": "Geography",
         "rawType": "object",
         "type": "string"
        },
        {
         "name": "Gender",
         "rawType": "object",
         "type": "string"
        },
        {
         "name": "Age",
         "rawType": "float64",
         "type": "float"
        },
        {
         "name": "Tenure",
         "rawType": "int64",
         "type": "integer"
        },
        {
         "name": "Balance",
         "rawType": "float64",
         "type": "float"
        },
        {
         "name": "NumOfProducts",
         "rawType": "int64",
         "type": "integer"
        },
        {
         "name": "HasCrCard",
         "rawType": "float64",
         "type": "float"
        },
        {
         "name": "IsActiveMember",
         "rawType": "float64",
         "type": "float"
        },
        {
         "name": "EstimatedSalary",
         "rawType": "float64",
         "type": "float"
        },
        {
         "name": "Exited",
         "rawType": "int64",
         "type": "integer"
        }
       ],
       "conversionMethod": "pd.DataFrame",
       "ref": "389ab37e-cd43-407f-a1ac-04ee38059198",
       "rows": [
        [
         "0",
         "37765",
         "15794860",
         "Ch'eng",
         "627",
         "France",
         "Male",
         "28.0",
         "7",
         "131694.04",
         "1",
         "1.0",
         "1.0",
         "161205.61",
         "0"
        ],
        [
         "1",
         "130453",
         "15728005",
         "Hargreaves",
         "597",
         "France",
         "Male",
         "34.0",
         "2",
         "0.0",
         "2",
         "0.0",
         "1.0",
         "181419.29",
         "0"
        ],
        [
         "2",
         "77297",
         "15686810",
         "Ts'ui",
         "724",
         "France",
         "Male",
         "39.0",
         "7",
         "0.0",
         "2",
         "1.0",
         "1.0",
         "100862.54",
         "0"
        ],
        [
         "3",
         "40858",
         "15760244",
         "Trevisano",
         "663",
         "Germany",
         "Female",
         "56.0",
         "5",
         "118577.24",
         "3",
         "1.0",
         "0.0",
         "61164.45",
         "1"
        ],
        [
         "4",
         "19804",
         "15810563",
         "French",
         "627",
         "France",
         "Female",
         "33.0",
         "5",
         "0.0",
         "2",
         "1.0",
         "1.0",
         "103737.82",
         "0"
        ]
       ],
       "shape": {
        "columns": 14,
        "rows": 5
       }
      },
      "text/html": [
       "<div>\n",
       "<style scoped>\n",
       "    .dataframe tbody tr th:only-of-type {\n",
       "        vertical-align: middle;\n",
       "    }\n",
       "\n",
       "    .dataframe tbody tr th {\n",
       "        vertical-align: top;\n",
       "    }\n",
       "\n",
       "    .dataframe thead th {\n",
       "        text-align: right;\n",
       "    }\n",
       "</style>\n",
       "<table border=\"1\" class=\"dataframe\">\n",
       "  <thead>\n",
       "    <tr style=\"text-align: right;\">\n",
       "      <th></th>\n",
       "      <th>ID</th>\n",
       "      <th>CustomerId</th>\n",
       "      <th>Surname</th>\n",
       "      <th>CreditScore</th>\n",
       "      <th>Geography</th>\n",
       "      <th>Gender</th>\n",
       "      <th>Age</th>\n",
       "      <th>Tenure</th>\n",
       "      <th>Balance</th>\n",
       "      <th>NumOfProducts</th>\n",
       "      <th>HasCrCard</th>\n",
       "      <th>IsActiveMember</th>\n",
       "      <th>EstimatedSalary</th>\n",
       "      <th>Exited</th>\n",
       "    </tr>\n",
       "  </thead>\n",
       "  <tbody>\n",
       "    <tr>\n",
       "      <th>0</th>\n",
       "      <td>37765</td>\n",
       "      <td>15794860</td>\n",
       "      <td>Ch'eng</td>\n",
       "      <td>627</td>\n",
       "      <td>France</td>\n",
       "      <td>Male</td>\n",
       "      <td>28.0</td>\n",
       "      <td>7</td>\n",
       "      <td>131694.04</td>\n",
       "      <td>1</td>\n",
       "      <td>1.0</td>\n",
       "      <td>1.0</td>\n",
       "      <td>161205.61</td>\n",
       "      <td>0</td>\n",
       "    </tr>\n",
       "    <tr>\n",
       "      <th>1</th>\n",
       "      <td>130453</td>\n",
       "      <td>15728005</td>\n",
       "      <td>Hargreaves</td>\n",
       "      <td>597</td>\n",
       "      <td>France</td>\n",
       "      <td>Male</td>\n",
       "      <td>34.0</td>\n",
       "      <td>2</td>\n",
       "      <td>0.00</td>\n",
       "      <td>2</td>\n",
       "      <td>0.0</td>\n",
       "      <td>1.0</td>\n",
       "      <td>181419.29</td>\n",
       "      <td>0</td>\n",
       "    </tr>\n",
       "    <tr>\n",
       "      <th>2</th>\n",
       "      <td>77297</td>\n",
       "      <td>15686810</td>\n",
       "      <td>Ts'ui</td>\n",
       "      <td>724</td>\n",
       "      <td>France</td>\n",
       "      <td>Male</td>\n",
       "      <td>39.0</td>\n",
       "      <td>7</td>\n",
       "      <td>0.00</td>\n",
       "      <td>2</td>\n",
       "      <td>1.0</td>\n",
       "      <td>1.0</td>\n",
       "      <td>100862.54</td>\n",
       "      <td>0</td>\n",
       "    </tr>\n",
       "    <tr>\n",
       "      <th>3</th>\n",
       "      <td>40858</td>\n",
       "      <td>15760244</td>\n",
       "      <td>Trevisano</td>\n",
       "      <td>663</td>\n",
       "      <td>Germany</td>\n",
       "      <td>Female</td>\n",
       "      <td>56.0</td>\n",
       "      <td>5</td>\n",
       "      <td>118577.24</td>\n",
       "      <td>3</td>\n",
       "      <td>1.0</td>\n",
       "      <td>0.0</td>\n",
       "      <td>61164.45</td>\n",
       "      <td>1</td>\n",
       "    </tr>\n",
       "    <tr>\n",
       "      <th>4</th>\n",
       "      <td>19804</td>\n",
       "      <td>15810563</td>\n",
       "      <td>French</td>\n",
       "      <td>627</td>\n",
       "      <td>France</td>\n",
       "      <td>Female</td>\n",
       "      <td>33.0</td>\n",
       "      <td>5</td>\n",
       "      <td>0.00</td>\n",
       "      <td>2</td>\n",
       "      <td>1.0</td>\n",
       "      <td>1.0</td>\n",
       "      <td>103737.82</td>\n",
       "      <td>0</td>\n",
       "    </tr>\n",
       "  </tbody>\n",
       "</table>\n",
       "</div>"
      ],
      "text/plain": [
       "       ID  CustomerId     Surname  CreditScore Geography  Gender   Age  \\\n",
       "0   37765    15794860      Ch'eng          627    France    Male  28.0   \n",
       "1  130453    15728005  Hargreaves          597    France    Male  34.0   \n",
       "2   77297    15686810       Ts'ui          724    France    Male  39.0   \n",
       "3   40858    15760244   Trevisano          663   Germany  Female  56.0   \n",
       "4   19804    15810563      French          627    France  Female  33.0   \n",
       "\n",
       "   Tenure    Balance  NumOfProducts  HasCrCard  IsActiveMember  \\\n",
       "0       7  131694.04              1        1.0             1.0   \n",
       "1       2       0.00              2        0.0             1.0   \n",
       "2       7       0.00              2        1.0             1.0   \n",
       "3       5  118577.24              3        1.0             0.0   \n",
       "4       5       0.00              2        1.0             1.0   \n",
       "\n",
       "   EstimatedSalary  Exited  \n",
       "0        161205.61       0  \n",
       "1        181419.29       0  \n",
       "2        100862.54       0  \n",
       "3         61164.45       1  \n",
       "4        103737.82       0  "
      ]
     },
     "execution_count": 3,
     "metadata": {},
     "output_type": "execute_result"
    }
   ],
   "source": [
    "data = pd.read_csv(data_folder / \"train_data.csv\")\n",
    "data.head()"
   ]
  },
  {
   "cell_type": "markdown",
   "metadata": {},
   "source": [
    "### **1. Traitement des variables**"
   ]
  },
  {
   "cell_type": "code",
   "execution_count": 4,
   "metadata": {},
   "outputs": [],
   "source": [
    "# Suppression des variables a priori inutiles\n",
    "df = data.copy().sort_values(\"Exited\")\n",
    "df.drop(columns=[\n",
    "    \"CustomerId\",\n",
    "    \"Surname\"\n",
    "], inplace=True)"
   ]
  },
  {
   "cell_type": "code",
   "execution_count": 5,
   "metadata": {},
   "outputs": [],
   "source": [
    "# Création de nouvelles variables potentiellement pertinenentes après analyse\n",
    "# Les intervalles ont été créés après essais-erreurs en combinant observation\n",
    "# des données et techniques de clustering (k-means) \n",
    "def create_columns(df):\n",
    "    X = df.copy()\n",
    "    \n",
    "    X[\"IsNewClient\"] = X[\"Tenure\"] == 0\n",
    "\n",
    "    X[\"HasNullBalance\"] = X[\"Balance\"] == 0\n",
    "\n",
    "    X[\"NumOfProducts_2\"] = X[\"NumOfProducts\"].replace({4: 3})\n",
    "\n",
    "    X[\"EstimatedSalary_2\"] = pd.cut(\n",
    "        x=X[\"EstimatedSalary\"],\n",
    "        bins=[-np.inf, 39500, 78260, 115400, 154430, np.inf],\n",
    "        labels=[0, 1, 2, 3, 4],\n",
    "    )\n",
    "\n",
    "    X[\"Balance_2\"] = pd.cut(\n",
    "        x=X[\"Balance\"],\n",
    "        bins=[-np.inf, 50000, 100000, 150000, 200000, np.inf],\n",
    "        labels=[0, 1, 2, 3, 4],\n",
    "    )\n",
    "\n",
    "    X[\"CreditScore_2\"] = pd.cut(\n",
    "        x=X[\"CreditScore\"],\n",
    "        bins=[-np.inf, 545, 612, 673, 744, np.inf],\n",
    "        labels=[0, 1, 2, 3, 4],\n",
    "    )\n",
    "    \n",
    "    return X"
   ]
  },
  {
   "cell_type": "markdown",
   "metadata": {
    "vscode": {
     "languageId": "sql"
    }
   },
   "source": [
    "### **2. Modèle avec recheche d'hyperparamètres**"
   ]
  },
  {
   "cell_type": "code",
   "execution_count": 6,
   "metadata": {},
   "outputs": [],
   "source": [
    "from sklearn.preprocessing import OneHotEncoder, MinMaxScaler, FunctionTransformer\n",
    "from sklearn.pipeline import Pipeline\n",
    "from sklearn.compose import ColumnTransformer\n",
    "from sklearn.model_selection import cross_val_score\n",
    "from xgboost import XGBClassifier\n",
    "\n",
    "import mlflow\n",
    "from mlflow.models import infer_signature\n",
    "\n",
    "from hyperopt import STATUS_OK, Trials, fmin, hp, tpe\n",
    "\n",
    "import warnings\n",
    "warnings.filterwarnings(\"ignore\")\n",
    "\n",
    "import json"
   ]
  },
  {
   "cell_type": "code",
   "execution_count": 7,
   "metadata": {},
   "outputs": [],
   "source": [
    "# Séparation des données (features / target)\n",
    "X = df.drop(columns=\"Exited\")\n",
    "y = df[\"Exited\"]"
   ]
  },
  {
   "cell_type": "code",
   "execution_count": 8,
   "metadata": {},
   "outputs": [],
   "source": [
    "# Signature du modèle\n",
    "np.random.seed(42)\n",
    "ids = np.random.choice(range(len(X)), 10)\n",
    "X_sample = X.iloc[ids]\n",
    "y_sample = y.iloc[ids]\n",
    "signature = infer_signature(X_sample, y_sample)"
   ]
  },
  {
   "cell_type": "code",
   "execution_count": 9,
   "metadata": {},
   "outputs": [],
   "source": [
    "# Preprocessing\n",
    "preprocessor = Pipeline(steps=[\n",
    "    (\"CreateColumns\", FunctionTransformer(create_columns)),\n",
    "    (\"Transformer\", ColumnTransformer(\n",
    "    transformers=[\n",
    "        (\"OneHotEncoder\", OneHotEncoder(drop=\"first\", handle_unknown=\"error\"), [\"Gender\", \"Geography\"]),\n",
    "        (\"MinMaxScaler\", MinMaxScaler(), [\"Age\", \"NumOfProducts_2\", \"NumOfProducts\", \"Balance_2\", \"Balance\", \"CreditScore\", \"CreditScore_2\", \"EstimatedSalary\", \"EstimatedSalary_2\", \"Tenure\"]),\n",
    "        (\"Passthrough\", \"passthrough\", [\"IsActiveMember\", \"HasNullBalance\", \"HasCrCard\", \"IsNewClient\"])\n",
    "    ])),\n",
    "])"
   ]
  },
  {
   "cell_type": "code",
   "execution_count": 10,
   "metadata": {},
   "outputs": [],
   "source": [
    "# Configuration et entraînement du modèle\n",
    "def train_model(params, X, y):\n",
    "    # Conversion en entier de certains hyperparamètres \n",
    "    params[\"n_estimators\"] = int(params[\"n_estimators\"])\n",
    "    params[\"max_depth\"] = int(params[\"max_depth\"])\n",
    "    \n",
    "    # Modèle\n",
    "    model = Pipeline(steps=[\n",
    "        (\"Preprocessor\", preprocessor),\n",
    "        (\"Classifier\", XGBClassifier(**params)),\n",
    "    ])\n",
    "\n",
    "    with mlflow.start_run(nested=True):\n",
    "        # Entraînement avec cross-validation\n",
    "        # Maximiser le f1-score <=> minimiser son opposé\n",
    "        # +1 pour rester dans [0, 1]\n",
    "        loss = cross_val_score(estimator=model, X=X, y=y, scoring=\"f1\", cv=5)\n",
    "        loss = 1 - loss.mean()\n",
    "        \n",
    "        # Hyperparamètres et métriques\n",
    "        mlflow.log_params(params)\n",
    "        mlflow.log_metric(\"f1_score\", 1 - loss)\n",
    "\n",
    "        # Sauvegarde du modèle\n",
    "        mlflow.sklearn.log_model(\n",
    "            model,\n",
    "            artifact_path=\"bank-churn-model-xgb-hyperopt\",\n",
    "            signature=signature,\n",
    "            input_example=X_sample,\n",
    "            registered_model_name=\"bank-churn-classifier\",\n",
    "        )\n",
    "        \n",
    "        return {\"loss\": loss, \"status\": STATUS_OK, \"model\": model}\n",
    "\n",
    "def objective(params):\n",
    "    return train_model(params, X=X, y=y)"
   ]
  },
  {
   "cell_type": "code",
   "execution_count": 11,
   "metadata": {},
   "outputs": [],
   "source": [
    "# Espace de recherche des hyperparamètres\n",
    "space = {\n",
    "    # Valeurs fixes\n",
    "    \"learning_rate\": 0.22,\n",
    "    \"random_state\": 42,\n",
    "    \"scale_pos_weight\": 1.9,\n",
    "\n",
    "    # A explorer\n",
    "    \"colsample_bytree\": hp.quniform(\"colsample_bytree\", 0.5, 1.0, 0.05),\n",
    "    \"gamma\": hp.uniform(\"gamma\", 0, 10),\n",
    "    \"max_depth\": hp.quniform(\"max_depth\", 5, 15, 1),\n",
    "    \"max_delta_step\": hp.uniform(\"max_delta_step\", 0, 10),\n",
    "    \"min_child_weight\": hp.uniform(\"min_child_weight\", 0, 5),\n",
    "    \"n_estimators\": hp.quniform(\"n_estimators\", 10, 1000, 10),\n",
    "    \"reg_alpha\": hp.uniform(\"reg_alpha\", 0, 5),\n",
    "    \"reg_lambda\": hp.uniform(\"reg_lambda\", 0, 5),\n",
    "    \"subsample\": hp.quniform(\"subsample\", 0.5, 1, 0.05),\n",
    "}"
   ]
  },
  {
   "cell_type": "markdown",
   "metadata": {},
   "source": [
    "### **3. Run et logging avec MLflow**"
   ]
  },
  {
   "cell_type": "code",
   "execution_count": null,
   "metadata": {},
   "outputs": [],
   "source": [
    "mlflow.set_tracking_uri(uri=\"http://localhost:8080\")\n",
    "mlflow.set_experiment(\"mlpro-classification-bank-churn\")\n",
    "\n",
    "with mlflow.start_run():\n",
    "    # Recherche d'hyperparamètres\n",
    "    trials = Trials()\n",
    "    best_params = fmin(\n",
    "        fn=objective,\n",
    "        space=space,\n",
    "        algo=tpe.suggest,\n",
    "        max_evals=5,\n",
    "        trials=trials,\n",
    "        rstate=np.random.default_rng(42),\n",
    "    )\n",
    "    \n",
    "    # Meilleur modèle\n",
    "    best_run = trials.best_trial[\"result\"]\n",
    "    \n",
    "    # Réentraîner le modèle sur l'ensemble des données pour la sauvegarde\n",
    "    model = best_run[\"model\"]\n",
    "    model.fit(X, y)\n",
    "    \n",
    "    # Sauvegarde\n",
    "    mlflow.log_params(best_params)\n",
    "    mlflow.log_metric(\"f1_score\", 1 - best_run[\"loss\"])\n",
    "    model_info = mlflow.sklearn.log_model(\n",
    "        model,\n",
    "        signature=signature,\n",
    "        input_example=X_sample,\n",
    "        artifact_path=\"bank-churn-model-xgb-hyperopt\",\n",
    "        registered_model_name=\"bank-churn-classifier\",\n",
    "    )"
   ]
  },
  {
   "cell_type": "code",
   "execution_count": 13,
   "metadata": {},
   "outputs": [
    {
     "name": "stdout",
     "output_type": "stream",
     "text": [
      "Best parameters: {\n",
      "    \"colsample_bytree\": 0.75,\n",
      "    \"gamma\": 3.2399903571543387,\n",
      "    \"max_delta_step\": 7.155584591130996,\n",
      "    \"max_depth\": 6.0,\n",
      "    \"min_child_weight\": 3.8392819888268797,\n",
      "    \"n_estimators\": 660.0,\n",
      "    \"reg_alpha\": 4.419633127363078,\n",
      "    \"reg_lambda\": 3.100594988383205,\n",
      "    \"subsample\": 0.9\n",
      "}\n",
      "Best eval f1-score: 0.6651497257749395\n"
     ]
    }
   ],
   "source": [
    "# Meilleurs paramètres et score associé\n",
    "print(f\"Best parameters: {json.dumps(best_params, indent=4)}\")\n",
    "print(f\"Best eval f1-score: {1 - best_run[\"loss\"]}\")"
   ]
  },
  {
   "cell_type": "markdown",
   "metadata": {},
   "source": [
    "### **4. Prédictions sur le test set de Kaggle**"
   ]
  },
  {
   "cell_type": "code",
   "execution_count": 14,
   "metadata": {},
   "outputs": [],
   "source": [
    "# Données\n",
    "test_data = pd.read_csv(data_folder / \"test_data.csv\")"
   ]
  },
  {
   "cell_type": "code",
   "execution_count": 15,
   "metadata": {},
   "outputs": [
    {
     "name": "stderr",
     "output_type": "stream",
     "text": [
      "Downloading artifacts: 100%|██████████| 7/7 [00:00<00:00, 64.97it/s]\n",
      "2025/02/14 15:08:20 WARNING mlflow.models.utils: Found extra inputs in the model input that are not defined in the model signature: `['CustomerId', 'Surname']`. These inputs will be ignored.\n"
     ]
    },
    {
     "name": "stdout",
     "output_type": "stream",
     "text": [
      "submission_3590a436e72044b18f075351f0559a70.csv sauvegardé avec succès !\n"
     ]
    }
   ],
   "source": [
    "# Chargement du meilleur modèle depuis le serveur MLflow\n",
    "model_uri = model_info.model_uri\n",
    "loaded_model = mlflow.pyfunc.load_model(model_uri)\n",
    "\n",
    "# Prédiction\n",
    "exited = loaded_model.predict(test_data)\n",
    "submission = test_data[[\"ID\"]].copy()\n",
    "submission[\"Exited\"] = exited\n",
    "\n",
    "# Sauvegarde\n",
    "submission_folder = data_folder / \"submissions\"\n",
    "filename = f\"submission_{model_info.run_id}.csv\"\n",
    "submission.to_csv(submission_folder / filename, index=False)\n",
    "print(f\"{filename} sauvegardé avec succès !\")"
   ]
  },
  {
   "cell_type": "markdown",
   "metadata": {},
   "source": [
    "Kaggle results on **2025-02-14 3:10 PM**\n",
    "- Leaderboard position : 2nd\n",
    "- Score : 0.66391\n",
    "- 1st score : 0.66483"
   ]
  }
 ],
 "metadata": {
  "kernelspec": {
   "display_name": "mlpro-classification-bank-churn-2025-I-HyDkX0-py3.12",
   "language": "python",
   "name": "python3"
  },
  "language_info": {
   "codemirror_mode": {
    "name": "ipython",
    "version": 3
   },
   "file_extension": ".py",
   "mimetype": "text/x-python",
   "name": "python",
   "nbconvert_exporter": "python",
   "pygments_lexer": "ipython3",
   "version": "3.12.8"
  }
 },
 "nbformat": 4,
 "nbformat_minor": 2
}
