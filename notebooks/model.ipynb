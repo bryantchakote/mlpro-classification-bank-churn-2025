{
 "cells": [
  {
   "cell_type": "code",
   "execution_count": 1,
   "metadata": {},
   "outputs": [],
   "source": [
    "import numpy as np\n",
    "import pandas as pd\n",
    "import matplotlib.pyplot as plt\n",
    "\n",
    "plt.style.use(\"ggplot\")"
   ]
  },
  {
   "cell_type": "code",
   "execution_count": 2,
   "metadata": {},
   "outputs": [],
   "source": [
    "from sklearn.preprocessing import OneHotEncoder, MinMaxScaler\n",
    "from sklearn.pipeline import Pipeline\n",
    "from sklearn.compose import ColumnTransformer\n",
    "from sklearn.model_selection import train_test_split\n",
    "from sklearn.metrics import f1_score\n",
    "from xgboost import XGBClassifier"
   ]
  },
  {
   "cell_type": "markdown",
   "metadata": {},
   "source": [
    "### **0. Chargement des données**"
   ]
  },
  {
   "cell_type": "code",
   "execution_count": 3,
   "metadata": {},
   "outputs": [
    {
     "data": {
      "text/plain": [
       "['test_data.csv', 'example_submission.csv', 'train_data.csv']"
      ]
     },
     "execution_count": 3,
     "metadata": {},
     "output_type": "execute_result"
    }
   ],
   "source": [
    "import os\n",
    "from pathlib import Path\n",
    "\n",
    "data_folder = Path(\"../data\")\n",
    "os.listdir(data_folder)"
   ]
  },
  {
   "cell_type": "code",
   "execution_count": 4,
   "metadata": {},
   "outputs": [
    {
     "data": {
      "text/html": [
       "<div>\n",
       "<style scoped>\n",
       "    .dataframe tbody tr th:only-of-type {\n",
       "        vertical-align: middle;\n",
       "    }\n",
       "\n",
       "    .dataframe tbody tr th {\n",
       "        vertical-align: top;\n",
       "    }\n",
       "\n",
       "    .dataframe thead th {\n",
       "        text-align: right;\n",
       "    }\n",
       "</style>\n",
       "<table border=\"1\" class=\"dataframe\">\n",
       "  <thead>\n",
       "    <tr style=\"text-align: right;\">\n",
       "      <th></th>\n",
       "      <th>ID</th>\n",
       "      <th>CustomerId</th>\n",
       "      <th>Surname</th>\n",
       "      <th>CreditScore</th>\n",
       "      <th>Geography</th>\n",
       "      <th>Gender</th>\n",
       "      <th>Age</th>\n",
       "      <th>Tenure</th>\n",
       "      <th>Balance</th>\n",
       "      <th>NumOfProducts</th>\n",
       "      <th>HasCrCard</th>\n",
       "      <th>IsActiveMember</th>\n",
       "      <th>EstimatedSalary</th>\n",
       "      <th>Exited</th>\n",
       "    </tr>\n",
       "  </thead>\n",
       "  <tbody>\n",
       "    <tr>\n",
       "      <th>0</th>\n",
       "      <td>37765</td>\n",
       "      <td>15794860</td>\n",
       "      <td>Ch'eng</td>\n",
       "      <td>627</td>\n",
       "      <td>France</td>\n",
       "      <td>Male</td>\n",
       "      <td>28.0</td>\n",
       "      <td>7</td>\n",
       "      <td>131694.04</td>\n",
       "      <td>1</td>\n",
       "      <td>1.0</td>\n",
       "      <td>1.0</td>\n",
       "      <td>161205.61</td>\n",
       "      <td>0</td>\n",
       "    </tr>\n",
       "    <tr>\n",
       "      <th>1</th>\n",
       "      <td>130453</td>\n",
       "      <td>15728005</td>\n",
       "      <td>Hargreaves</td>\n",
       "      <td>597</td>\n",
       "      <td>France</td>\n",
       "      <td>Male</td>\n",
       "      <td>34.0</td>\n",
       "      <td>2</td>\n",
       "      <td>0.00</td>\n",
       "      <td>2</td>\n",
       "      <td>0.0</td>\n",
       "      <td>1.0</td>\n",
       "      <td>181419.29</td>\n",
       "      <td>0</td>\n",
       "    </tr>\n",
       "    <tr>\n",
       "      <th>2</th>\n",
       "      <td>77297</td>\n",
       "      <td>15686810</td>\n",
       "      <td>Ts'ui</td>\n",
       "      <td>724</td>\n",
       "      <td>France</td>\n",
       "      <td>Male</td>\n",
       "      <td>39.0</td>\n",
       "      <td>7</td>\n",
       "      <td>0.00</td>\n",
       "      <td>2</td>\n",
       "      <td>1.0</td>\n",
       "      <td>1.0</td>\n",
       "      <td>100862.54</td>\n",
       "      <td>0</td>\n",
       "    </tr>\n",
       "    <tr>\n",
       "      <th>3</th>\n",
       "      <td>40858</td>\n",
       "      <td>15760244</td>\n",
       "      <td>Trevisano</td>\n",
       "      <td>663</td>\n",
       "      <td>Germany</td>\n",
       "      <td>Female</td>\n",
       "      <td>56.0</td>\n",
       "      <td>5</td>\n",
       "      <td>118577.24</td>\n",
       "      <td>3</td>\n",
       "      <td>1.0</td>\n",
       "      <td>0.0</td>\n",
       "      <td>61164.45</td>\n",
       "      <td>1</td>\n",
       "    </tr>\n",
       "    <tr>\n",
       "      <th>4</th>\n",
       "      <td>19804</td>\n",
       "      <td>15810563</td>\n",
       "      <td>French</td>\n",
       "      <td>627</td>\n",
       "      <td>France</td>\n",
       "      <td>Female</td>\n",
       "      <td>33.0</td>\n",
       "      <td>5</td>\n",
       "      <td>0.00</td>\n",
       "      <td>2</td>\n",
       "      <td>1.0</td>\n",
       "      <td>1.0</td>\n",
       "      <td>103737.82</td>\n",
       "      <td>0</td>\n",
       "    </tr>\n",
       "  </tbody>\n",
       "</table>\n",
       "</div>"
      ],
      "text/plain": [
       "       ID  CustomerId     Surname  CreditScore Geography  Gender   Age  \\\n",
       "0   37765    15794860      Ch'eng          627    France    Male  28.0   \n",
       "1  130453    15728005  Hargreaves          597    France    Male  34.0   \n",
       "2   77297    15686810       Ts'ui          724    France    Male  39.0   \n",
       "3   40858    15760244   Trevisano          663   Germany  Female  56.0   \n",
       "4   19804    15810563      French          627    France  Female  33.0   \n",
       "\n",
       "   Tenure    Balance  NumOfProducts  HasCrCard  IsActiveMember  \\\n",
       "0       7  131694.04              1        1.0             1.0   \n",
       "1       2       0.00              2        0.0             1.0   \n",
       "2       7       0.00              2        1.0             1.0   \n",
       "3       5  118577.24              3        1.0             0.0   \n",
       "4       5       0.00              2        1.0             1.0   \n",
       "\n",
       "   EstimatedSalary  Exited  \n",
       "0        161205.61       0  \n",
       "1        181419.29       0  \n",
       "2        100862.54       0  \n",
       "3         61164.45       1  \n",
       "4        103737.82       0  "
      ]
     },
     "execution_count": 4,
     "metadata": {},
     "output_type": "execute_result"
    }
   ],
   "source": [
    "data = pd.read_csv(data_folder / \"train_data.csv\")\n",
    "data.head()"
   ]
  },
  {
   "cell_type": "markdown",
   "metadata": {},
   "source": [
    "### **1. Traitement des variables**"
   ]
  },
  {
   "cell_type": "code",
   "execution_count": 5,
   "metadata": {},
   "outputs": [],
   "source": [
    "# Suppression des variables a priori inutiles\n",
    "df = data.copy().sort_values(\"Exited\")\n",
    "df.drop(columns=[\n",
    "    \"CustomerId\",\n",
    "    \"Surname\"\n",
    "], inplace=True)"
   ]
  },
  {
   "cell_type": "code",
   "execution_count": 6,
   "metadata": {},
   "outputs": [],
   "source": [
    "# Création de nouvelles variables potentiellement pertinenentes après analyse\n",
    "df [\"IsNewClient\"] = df[\"Tenure\"] == 0\n",
    "\n",
    "df[\"HasNullBalance\"] = df[\"Balance\"] == 0\n",
    "\n",
    "df[\"NumOfProducts_2\"] = df[\"NumOfProducts\"].replace({4: 3})\n",
    "\n",
    "df[\"EstimatedSalary_2\"] = pd.cut(\n",
    "    x=df[\"EstimatedSalary\"],\n",
    "    bins=[0, 39500, 78260, 115400, 154430, 200000],\n",
    "    labels=[0, 1, 2, 3, 4],\n",
    ")\n",
    "\n",
    "df[\"Balance_2\"] = pd.cut(\n",
    "    x=df[\"Balance\"],\n",
    "    bins=[-1, 50000, 100000, 150000, 200000, df[\"Balance\"].max()],\n",
    "    labels=[0, 1, 2, 3, 4],\n",
    ").astype(int)\n",
    "\n",
    "df[\"CreditScore_2\"] = pd.cut(\n",
    "    x=df[\"CreditScore\"],\n",
    "    bins=[300, 545, 612, 673, 744, 900],\n",
    "    labels=[0, 1, 2, 3, 4],\n",
    ")"
   ]
  },
  {
   "cell_type": "markdown",
   "metadata": {
    "vscode": {
     "languageId": "sql"
    }
   },
   "source": [
    "### **2. Preprocessing et modèle**"
   ]
  },
  {
   "cell_type": "code",
   "execution_count": 7,
   "metadata": {},
   "outputs": [
    {
     "name": "stdout",
     "output_type": "stream",
     "text": [
      "test_f1_score = 0.6654705594519654\n",
      "train_f1_score = 0.7036231884057971\n"
     ]
    }
   ],
   "source": [
    "X_train, X_test, y_train, y_test = train_test_split(df.drop(columns=\"Exited\"), df[\"Exited\"], test_size=0.2, random_state=42)\n",
    "\n",
    "preprocessor = Pipeline(steps=[(\"Transformer\", ColumnTransformer(\n",
    "    transformers=[\n",
    "        (\"OneHotEncoder\", OneHotEncoder(drop=\"first\", handle_unknown=\"error\"), [\"Gender\", \"Geography\"]),\n",
    "        (\"MinMaxScaler\", MinMaxScaler(), [\"Age\", \"NumOfProducts_2\", \"NumOfProducts\", \"Balance_2\", \"Balance\", \"CreditScore\", \"CreditScore_2\", \"EstimatedSalary\", \"EstimatedSalary_2\", \"Tenure\"]),\n",
    "        (\"Passthrough\", \"passthrough\", [\"IsActiveMember\", \"HasNullBalance\", \"HasCrCard\", \"IsNewClient\"])\n",
    "    ]\n",
    "))])\n",
    "\n",
    "X_train_preprocessed = preprocessor.fit_transform(X_train, y_train)\n",
    "X_test_preprocessed = preprocessor.transform(X_test)\n",
    "\n",
    "xgb = XGBClassifier(scale_pos_weight=1.9, seed=42, eta=0.22)\n",
    "xgb.fit(X_train_preprocessed, y_train)\n",
    "\n",
    "y_pred_train = xgb.predict(X_train_preprocessed)\n",
    "y_pred_test = xgb.predict(X_test_preprocessed)\n",
    "\n",
    "print(f\"test_f1_score = {f1_score(y_test, y_pred_test)}\")\n",
    "print(f\"train_f1_score = {f1_score(y_train, y_pred_train)}\")"
   ]
  },
  {
   "cell_type": "markdown",
   "metadata": {},
   "source": [
    "### **3. Prédictions sur le test set de Kaggle**"
   ]
  },
  {
   "cell_type": "code",
   "execution_count": 8,
   "metadata": {},
   "outputs": [],
   "source": [
    "# Données\n",
    "test_data = pd.read_csv(data_folder / \"test_data.csv\")\n",
    "test_data_df = test_data.copy()"
   ]
  },
  {
   "cell_type": "code",
   "execution_count": 9,
   "metadata": {},
   "outputs": [],
   "source": [
    "# Création des nouvelles variables\n",
    "# TODO : L'intégrer dans un FunctionTransformer\n",
    "test_data_df[\"IsNewClient\"] = test_data_df[\"Tenure\"] == 0\n",
    "\n",
    "test_data_df[\"HasNullBalance\"] = test_data_df[\"Balance\"] == 0\n",
    "\n",
    "test_data_df[\"NumOfProducts_2\"] = test_data_df[\"NumOfProducts\"].replace({4: 3})\n",
    "\n",
    "test_data_df[\"EstimatedSalary_2\"] = pd.cut(\n",
    "    x=test_data_df[\"EstimatedSalary\"],\n",
    "    bins=[0, 39500, 78260, 115400, 154430, 200000],\n",
    "    labels=[0, 1, 2, 3, 4],\n",
    ")\n",
    "\n",
    "test_data_df[\"Balance_2\"] = pd.cut(\n",
    "    x=test_data_df[\"Balance\"],\n",
    "    bins=[-1, 50000, 100000, 150000, 200000, test_data_df[\"Balance\"].max()],\n",
    "    labels=[0, 1, 2, 3, 4],\n",
    ").astype(int)\n",
    "\n",
    "test_data_df[\"CreditScore_2\"] = pd.cut(\n",
    "    x=test_data_df[\"CreditScore\"],\n",
    "    bins=[300, 545, 612, 673, 744, 900],\n",
    "    labels=[0, 1, 2, 3, 4],\n",
    ")"
   ]
  },
  {
   "cell_type": "code",
   "execution_count": 10,
   "metadata": {},
   "outputs": [],
   "source": [
    "# Preprocessing et prédictions\n",
    "# TODO : Utiliser dans la mesure du posisble MLflow pour tracker les expériences\n",
    "X_test_data_preprocessed = preprocessor.transform(test_data_df)\n",
    "exited = xgb.predict(X_test_data_preprocessed)\n",
    "\n",
    "submission = test_data[[\"ID\"]].copy()\n",
    "submission[\"Exited\"] = exited\n",
    "submission.to_csv(\"submission_1.csv\", index=False)"
   ]
  },
  {
   "cell_type": "markdown",
   "metadata": {},
   "source": [
    "Kaggle results on **2025-02-10 12:40 PM**\n",
    "- Leaderboard position : 2nd\n",
    "- Score : 0.66205\n",
    "- 1st score : 0.66350"
   ]
  }
 ],
 "metadata": {
  "kernelspec": {
   "display_name": "mlpro-classification-bank-churn-2025-I-HyDkX0-py3.12",
   "language": "python",
   "name": "python3"
  },
  "language_info": {
   "codemirror_mode": {
    "name": "ipython",
    "version": 3
   },
   "file_extension": ".py",
   "mimetype": "text/x-python",
   "name": "python",
   "nbconvert_exporter": "python",
   "pygments_lexer": "ipython3",
   "version": "3.12.8"
  }
 },
 "nbformat": 4,
 "nbformat_minor": 2
}
